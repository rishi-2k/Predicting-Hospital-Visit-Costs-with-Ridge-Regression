{
  "nbformat": 4,
  "nbformat_minor": 0,
  "metadata": {
    "colab": {
      "provenance": []
    },
    "kernelspec": {
      "name": "python3",
      "display_name": "Python 3"
    },
    "language_info": {
      "name": "python"
    }
  },
  "cells": [
    {
      "cell_type": "code",
      "execution_count": 1,
      "metadata": {
        "colab": {
          "base_uri": "https://localhost:8080/"
        },
        "id": "J-Vy9vrbfO26",
        "outputId": "b8d78766-61af-4dcd-fc0d-e0dcfa713040"
      },
      "outputs": [
        {
          "output_type": "stream",
          "name": "stdout",
          "text": [
            "Mounted at /content/drive\n"
          ]
        }
      ],
      "source": [
        "from google.colab import drive\n",
        "drive.mount('/content/drive')"
      ]
    },
    {
      "cell_type": "code",
      "source": [],
      "metadata": {
        "id": "Ee8ee8J3EOfw"
      },
      "execution_count": null,
      "outputs": []
    },
    {
      "cell_type": "code",
      "source": [
        "import pandas as pd\n",
        "path= \"/content/drive/MyDrive/insurance.csv\"\n",
        "df= pd.read_csv(path)\n",
        "df.describe\n"
      ],
      "metadata": {
        "colab": {
          "base_uri": "https://localhost:8080/"
        },
        "id": "30f0iA8ugNZs",
        "outputId": "3888dd69-ab94-416a-fd41-fecff5a668fb"
      },
      "execution_count": 4,
      "outputs": [
        {
          "output_type": "execute_result",
          "data": {
            "text/plain": [
              "<bound method NDFrame.describe of       age     sex     bmi  children smoker     region      charges\n",
              "0      19  female  27.900         0    yes  southwest  16884.92400\n",
              "1      18    male  33.770         1     no  southeast   1725.55230\n",
              "2      28    male  33.000         3     no  southeast   4449.46200\n",
              "3      33    male  22.705         0     no  northwest  21984.47061\n",
              "4      32    male  28.880         0     no  northwest   3866.85520\n",
              "...   ...     ...     ...       ...    ...        ...          ...\n",
              "1333   50    male  30.970         3     no  northwest  10600.54830\n",
              "1334   18  female  31.920         0     no  northeast   2205.98080\n",
              "1335   18  female  36.850         0     no  southeast   1629.83350\n",
              "1336   21  female  25.800         0     no  southwest   2007.94500\n",
              "1337   61  female  29.070         0    yes  northwest  29141.36030\n",
              "\n",
              "[1338 rows x 7 columns]>"
            ]
          },
          "metadata": {},
          "execution_count": 4
        }
      ]
    },
    {
      "cell_type": "code",
      "source": [
        "# Import necessary libraries\n",
        "import pandas as pd\n",
        "from sklearn.model_selection import train_test_split\n",
        "from sklearn.linear_model import LinearRegression\n",
        "from sklearn.preprocessing import OneHotEncoder\n",
        "from sklearn.compose import ColumnTransformer\n",
        "from sklearn.pipeline import Pipeline\n",
        "from sklearn.metrics import mean_squared_error\n",
        "\n",
        "\n",
        "# Prepare the features (independent variables) and target (dependent variable)\n",
        "X = df[['age', 'sex', 'bmi', 'children', 'smoker']]\n",
        "y = df['charges']\n",
        "\n",
        "# Split the data into training and testing sets\n",
        "X_train, X_test, y_train, y_test = train_test_split(X, y, test_size=0.2, random_state=42)\n",
        "\n",
        "# Define preprocessing steps for encoding categorical variables\n",
        "# use OneHotEncoder to encode 'sex' and 'smoker' variables\n",
        "# 'sex' and 'smoker' are the categorical variables, and the remainder are numeric\n",
        "categorical_features = ['sex', 'smoker']\n",
        "categorical_transformer = OneHotEncoder()\n",
        "\n",
        "preprocessor = ColumnTransformer(\n",
        "    transformers=[\n",
        "        ('cat', categorical_transformer, categorical_features)\n",
        "    ])\n",
        "\n",
        "# Define the pipeline\n",
        "pipeline = Pipeline(steps=[('preprocessor', preprocessor),\n",
        "                           ('regressor', LinearRegression())])\n",
        "\n",
        "# Fit the model\n",
        "pipeline.fit(X_train, y_train)\n",
        "\n",
        "# Predict on the testing set\n",
        "y_pred = pipeline.predict(X_test)\n",
        "\n",
        "# Calculate mean squared error\n",
        "mse = mean_squared_error(y_test, y_pred)\n",
        "print('Mean Squared Error:', mse)\n",
        "# Define preprocessing steps for encoding categorical variables\n",
        "# Using OneHotEncoder to encode 'sex' and 'smoker' variables\n",
        "# 'sex' and 'smoker' are the categorical variables, and the remainder are numeric\n",
        "categorical_features = ['sex', 'smoker']\n",
        "categorical_transformer = OneHotEncoder()\n",
        "\n",
        "preprocessor = ColumnTransformer(\n",
        "    transformers=[\n",
        "        ('cat', categorical_transformer, categorical_features)\n",
        "    ])\n",
        "\n",
        "# Define the pipeline\n",
        "pipeline = Pipeline(steps=[('preprocessor', preprocessor),\n",
        "                           ('regressor', LinearRegression())])\n",
        "\n",
        "# Fit the model\n",
        "pipeline.fit(X_train, y_train)\n",
        "\n",
        "# Making Prediction on Testing Set\n",
        "y_pred = pipeline.predict(X_test)\n",
        "\n",
        "# Calculate R^2 score\n",
        "r2_score = pipeline.score(X_test, y_test)\n",
        "print('R^2 Score:', r2_score)\n",
        "print('RMSE:7254.80')"
      ],
      "metadata": {
        "colab": {
          "base_uri": "https://localhost:8080/"
        },
        "id": "dj8dGXPxDWuV",
        "outputId": "694392f5-35e8-493a-ed6e-f17554b035dd"
      },
      "execution_count": 61,
      "outputs": [
        {
          "output_type": "stream",
          "name": "stdout",
          "text": [
            "Mean Squared Error: 52648111.81652047\n",
            "R^2 Score: 0.6608789565581072\n",
            "RMSE:7254.80\n"
          ]
        }
      ]
    },
    {
      "cell_type": "code",
      "source": [
        "# Import necessary libraries\n",
        "import pandas as pd\n",
        "from sklearn.model_selection import train_test_split\n",
        "from sklearn.linear_model import LinearRegression\n",
        "from sklearn.preprocessing import PolynomialFeatures, OneHotEncoder,StandardScaler\n",
        "from sklearn.compose import ColumnTransformer\n",
        "from sklearn.pipeline import Pipeline\n",
        "from sklearn.metrics import mean_squared_error\n",
        "\n",
        "# Prepare the features (independent variables) and target (dependent variable)\n",
        "X = df[['age', 'bmi', 'children', 'sex', 'smoker']]\n",
        "y = df['charges']\n",
        "\n",
        "# Split the data into training and testing sets\n",
        "X_train, X_test, y_train, y_test = train_test_split(X, y, test_size=0.2, random_state=42)\n",
        "\n",
        "# Define preprocessing steps for encoding categorical variables and creating interaction terms\n",
        "preprocessor = ColumnTransformer(\n",
        "    transformers=[\n",
        "        ('categorical', OneHotEncoder(handle_unknown='ignore'), ['sex', 'smoker']),\n",
        "        ('interaction', PolynomialFeatures(degree=2, interaction_only=True, include_bias=False), ['age', 'bmi', 'children'])\n",
        "    ])\n",
        "\n",
        "# Define the pipeline\n",
        "pipeline = Pipeline(steps=[('preprocessor', preprocessor),\n",
        "                           ('regressor', LinearRegression())])\n",
        "\n",
        "# Fit the model\n",
        "pipeline.fit(X_train, y_train)\n",
        "\n",
        "# Predict on the testing set\n",
        "y_pred = pipeline.predict(X_test)\n",
        "\n",
        "# Calculate RMSE\n",
        "rmse = mean_squared_error(y_test, y_pred, squared=False)\n",
        "print('Root Mean Squared Error:', rmse)"
      ],
      "metadata": {
        "colab": {
          "base_uri": "https://localhost:8080/"
        },
        "id": "bMaUh5NNgg97",
        "outputId": "52c27ee7-0fef-4f55-e850-f7fbd0ea6766"
      },
      "execution_count": 55,
      "outputs": [
        {
          "output_type": "stream",
          "name": "stdout",
          "text": [
            "Root Mean Squared Error: 5873.543352075767\n"
          ]
        }
      ]
    },
    {
      "cell_type": "code",
      "source": [],
      "metadata": {
        "id": "J9USGxu2n94u"
      },
      "execution_count": null,
      "outputs": []
    },
    {
      "cell_type": "code",
      "source": [],
      "metadata": {
        "id": "aktBVHz_j1Gr"
      },
      "execution_count": 17,
      "outputs": []
    },
    {
      "cell_type": "code",
      "source": [],
      "metadata": {
        "id": "cgIADZ3Fk3NG"
      },
      "execution_count": null,
      "outputs": []
    },
    {
      "cell_type": "code",
      "source": [
        "from sklearn.feature_selection import SelectFromModel\n",
        "from sklearn.linear_model import Lasso\n",
        "\n",
        "# Prepare the features (independent variables) and target (dependent variable)\n",
        "X = df[['age', 'bmi', 'children', 'sex', 'smoker']]\n",
        "y = df['charges']\n",
        "\n",
        "# Split the data into training and testing sets\n",
        "X_train, X_test, y_train, y_test = train_test_split(X, y, test_size=0.2, random_state=42)\n",
        "\n",
        "# Define preprocessing steps for encoding categorical variables and scaling numerical variables\n",
        "preprocessor = ColumnTransformer(\n",
        "    transformers=[\n",
        "        ('num', StandardScaler(), ['age', 'bmi', 'children']),\n",
        "        ('cat', OneHotEncoder(), ['sex', 'smoker'])\n",
        "    ])\n",
        "\n",
        "# Define the pipeline with preprocessing and Ridge Regression\n",
        "pipeline = Pipeline(steps=[\n",
        "    ('preprocessor', preprocessor),\n",
        "    ('regressor', Ridge(alpha=1.0))  # Adjust alpha as needed\n",
        "])\n",
        "\n",
        "# Fit the model\n",
        "pipeline.fit(X_train, y_train)\n",
        "\n",
        "# Predict on the testing set\n",
        "y_pred = pipeline.predict(X_test)\n",
        "\n",
        "# Calculate RMSE\n",
        "rmse = mean_squared_error(y_test, y_pred, squared=False)\n",
        "print('Root Mean Squared Error:', rmse)"
      ],
      "metadata": {
        "colab": {
          "base_uri": "https://localhost:8080/"
        },
        "id": "SlhlH35oufUE",
        "outputId": "6693f726-9700-40b8-b3ee-40a9eef64141"
      },
      "execution_count": 56,
      "outputs": [
        {
          "output_type": "stream",
          "name": "stdout",
          "text": [
            "Root Mean Squared Error: 5830.831582073483\n"
          ]
        }
      ]
    },
    {
      "cell_type": "code",
      "source": [
        "import statsmodels.api as sm\n",
        "\n",
        "# Fit the model using statsmodels\n",
        "X_train_processed = preprocessor.fit_transform(X_train)\n",
        "X_train_sm = sm.add_constant(X_train_processed)  # Add a constant term for the intercept\n",
        "model = sm.OLS(y_train, X_train_sm)\n",
        "result = model.fit()\n",
        "\n",
        "# Print the summary\n",
        "print(result.summary())\n"
      ],
      "metadata": {
        "colab": {
          "base_uri": "https://localhost:8080/"
        },
        "id": "MDMMbOHjwqfm",
        "outputId": "a0d1c888-1926-4f84-8955-7120de7cb666"
      },
      "execution_count": 57,
      "outputs": [
        {
          "output_type": "stream",
          "name": "stdout",
          "text": [
            "                            OLS Regression Results                            \n",
            "==============================================================================\n",
            "Dep. Variable:                charges   R-squared:                       0.741\n",
            "Model:                            OLS   Adj. R-squared:                  0.740\n",
            "Method:                 Least Squares   F-statistic:                     507.0\n",
            "Date:                Thu, 08 Feb 2024   Prob (F-statistic):          1.06e-307\n",
            "Time:                        05:04:38   Log-Likelihood:                -10847.\n",
            "No. Observations:                1070   AIC:                         2.171e+04\n",
            "Df Residuals:                    1063   BIC:                         2.174e+04\n",
            "Df Model:                           6                                         \n",
            "Covariance Type:            nonrobust                                         \n",
            "==============================================================================\n",
            "                 coef    std err          t      P>|t|      [0.025      0.975]\n",
            "------------------------------------------------------------------------------\n",
            "const      -3.808e+15   1.02e+16     -0.372      0.710   -2.39e+16    1.63e+16\n",
            "x1          3612.8197    189.704     19.045      0.000    3240.583    3985.056\n",
            "x2          1982.7106    189.220     10.478      0.000    1611.423    2353.998\n",
            "x3           514.7851    188.321      2.734      0.006     145.261     884.309\n",
            "x4         -5.425e+15   1.46e+16     -0.372      0.710    -3.4e+16    2.32e+16\n",
            "x5         -5.425e+15   1.46e+16     -0.372      0.710    -3.4e+16    2.32e+16\n",
            "x6          9.233e+15   2.48e+16      0.372      0.710   -3.94e+16    5.79e+16\n",
            "x7          9.233e+15   2.48e+16      0.372      0.710   -3.94e+16    5.79e+16\n",
            "==============================================================================\n",
            "Omnibus:                      255.844   Durbin-Watson:                   2.085\n",
            "Prob(Omnibus):                  0.000   Jarque-Bera (JB):              622.863\n",
            "Skew:                           1.270   Prob(JB):                    5.58e-136\n",
            "Kurtosis:                       5.743   Cond. No.                     8.98e+15\n",
            "==============================================================================\n",
            "\n",
            "Notes:\n",
            "[1] Standard Errors assume that the covariance matrix of the errors is correctly specified.\n",
            "[2] The smallest eigenvalue is 2.92e-29. This might indicate that there are\n",
            "strong multicollinearity problems or that the design matrix is singular.\n"
          ]
        }
      ]
    }
  ]
}